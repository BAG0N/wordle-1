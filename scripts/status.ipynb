{
 "cells": [
  {
   "cell_type": "code",
   "execution_count": 9,
   "metadata": {},
   "outputs": [
    {
     "name": "stdout",
     "output_type": "stream",
     "text": [
      "Total languages: 59\n",
      "ie: 1669 words\n",
      "ko: 8888 words\n",
      "ne: 19 words\n",
      "sl: 6814 words\n",
      "nl: 2957 words\n",
      "lb: 312 words\n",
      "hu: 4605 words\n",
      "fr: 3374 words\n",
      "oc: 3978 words\n",
      "en: 2310 words\n",
      "ia: 2262 words\n",
      "mk: 4127 words\n",
      "ga: 2844 words\n",
      "tr: 6653 words\n",
      "is: 633 words\n",
      "it: 1386 words\n",
      "ru: 3822 words\n",
      "pt: 7090 words\n",
      "es: 3030 words\n",
      "lv: 2306 words\n",
      "br: 2254 words\n",
      "ca: 6437 words\n",
      "hr: 2933 words\n",
      "et: 9578 words\n",
      "ltg: 368 words\n",
      "sr: 1 words\n",
      "pl: 5182 words\n",
      "he: 64476 words\n",
      "vi: 1 words\n",
      "fa: 7704 words\n",
      "eu: 5986 words\n",
      "uk: 4355 words\n",
      "ro: 5023 words\n",
      "fur: 2591 words\n",
      "fy: 181 words\n",
      "ar: 13883 words\n",
      "tk: 5660 words\n",
      "mn: 3766 words\n",
      "gd: 4110 words\n",
      "sk: 3673 words\n",
      "la: 4725 words\n",
      "tlh: 1 words\n",
      "nds: 334 words\n",
      "bg: 3383 words\n",
      "hy: 3187 words\n",
      "nn: 7445 words\n",
      "cs: 4774 words\n",
      "eo: 2243 words\n",
      "hyw: 3133 words\n",
      "el: 1 words\n",
      "da: 4164 words\n",
      "rw: 21 words\n",
      "fo: 4453 words\n",
      "sv: 4148 words\n",
      "nb: 6536 words\n",
      "de: 1952 words\n",
      "gl: 3263 words\n",
      "lt: 1400 words\n",
      "ka: 1303 words\n"
     ]
    }
   ],
   "source": [
    "# utility file to get some stats on the data\n",
    "\n",
    "import glob\n",
    "import json\n",
    "import matplotlib.pyplot as plt\n",
    "\n",
    "data_dir = \"../webapp/data/\"\n",
    "\n",
    "language_codes = [f.split(\"/\")[-1] for f in glob.glob(f\"{data_dir}/languages/*\")]\n",
    "print(\"Total languages:\", len(language_codes))\n",
    "\n",
    "# load the 5words.txt file in each language and count the number of words\n",
    "for code in language_codes:\n",
    "    with open(f\"{data_dir}languages/{code}/{code}_5words.txt\") as f:\n",
    "        words = f.read().split(\"\\n\")\n",
    "        print(f\"{code}: {len(words)} words\")\n",
    "\n"
   ]
  },
  {
   "cell_type": "code",
   "execution_count": 44,
   "metadata": {},
   "outputs": [
    {
     "data": {
      "image/png": "[encoded data removed]",
      "text/plain": [
       "<Figure size 1440x720 with 1 Axes>"
      ]
     },
     "metadata": {
      "needs_background": "light"
     },
     "output_type": "display_data"
    }
   ],
   "source": [
    "# plot the number of words for each language\n",
    "n_words = {}\n",
    "for code in language_codes:\n",
    "    with open(f\"{data_dir}languages/{code}/{code}_5words.txt\") as f:\n",
    "        words = f.read().split(\"\\n\")\n",
    "        n_words[code] = len(words)\n",
    "\n",
    "# plot\n",
    "plt.figure(figsize=(20, 10))\n",
    "plt.ylim(0, 10000)\n",
    "plt.bar(range(len(n_words)), list(n_words.values()))\n",
    "plt.xticks(range(len(n_words)), list(n_words.keys()), rotation=60)\n",
    "plt.savefig(\"out/n_words.png\")\n",
    "plt.show()"
   ]
  },
  {
   "cell_type": "code",
   "execution_count": 43,
   "metadata": {},
   "outputs": [],
   "source": [
    "# print a status list for the README\n",
    "\n",
    "with open(f\"{data_dir}/languages.json\", \"r\") as f:\n",
    "    languages_data = json.load(f)\n",
    "\n",
    "def load_supplemental_words(lang):\n",
    "    try:\n",
    "        with open(f\"{data_dir}languages/{lang}/{lang}_5words_supplement.txt\", \"r\") as f:\n",
    "            supplemental_words = [line.strip() for line in f]\n",
    "    except FileNotFoundError:\n",
    "        supplemental_words = []\n",
    "    return supplemental_words\n",
    "\n",
    "with open(\"out/status_list.txt\", \"w\", encoding=\"utf-8\") as f:\n",
    "    for code in language_codes:\n",
    "        with open(f\"{data_dir}languages/{code}/{code}_5words.txt\") as g:\n",
    "            words = g.read().split(\"\\n\")\n",
    "            words_supplement = load_supplemental_words(code)\n",
    "            status_emoji = \"🟥\"\n",
    "            if len(words) + len(words_supplement) > 500:\n",
    "                status_emoji = \"🟧\"\n",
    "            if len(words) + len(words_supplement) > 1000:\n",
    "                status_emoji = \"🟨\"\n",
    "            # if we've added words to the supplemental list, then we probably have a pretty good\n",
    "            # \"good words\" + \"possible\" words list, thus green status emoji\n",
    "            if len(words_supplement) > 2:\n",
    "                status_emoji = \"🟩\"\n",
    "            language_name = languages_data[code]['language_name']\n",
    "            f.write(f\"  - {language_name[:]} ({code}): {' '*(25-(len(language_name)+len(code)))} {status_emoji} ({len(words) + len(words_supplement)} words)\\n\")"
   ]
  },
  {
   "cell_type": "code",
   "execution_count": null,
   "metadata": {},
   "outputs": [],
   "source": []
  }
 ],
 "metadata": {
  "interpreter": {
   "hash": "288b253856eb2972d894762da6b8160ca46cc9975b4fdc84df51dc67977aa46b"
  },
  "kernelspec": {
   "display_name": "Python 3.8.10 64-bit ('venv': venv)",
   "language": "python",
   "name": "python3"
  },
  "language_info": {
   "codemirror_mode": {
    "name": "ipython",
    "version": 3
   },
   "file_extension": ".py",
   "mimetype": "text/x-python",
   "name": "python",
   "nbconvert_exporter": "python",
   "pygments_lexer": "ipython3",
   "version": "3.8.10"
  },
  "orig_nbformat": 4
 },
 "nbformat": 4,
 "nbformat_minor": 2
}
