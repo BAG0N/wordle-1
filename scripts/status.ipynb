{
 "cells": [
  {
   "cell_type": "code",
   "execution_count": 1,
   "metadata": {},
   "outputs": [
    {
     "name": "stdout",
     "output_type": "stream",
     "text": [
      "Total languages: 60\n",
      "ie: 2147 words\n",
      "ko: 8922 words\n",
      "ne: 2197 words\n",
      "sl: 11731 words\n",
      "nl: 7441 words\n",
      "lb: 1752 words\n",
      "hu: 6047 words\n",
      "fr: 4482 words\n",
      "oc: 4204 words\n",
      "en: 2310 words\n",
      "ia: 2476 words\n",
      "mk: 5998 words\n",
      "ga: 5082 words\n",
      "tr: 9224 words\n",
      "is: 8285 words\n",
      "it: 2783 words\n",
      "ru: 4688 words\n",
      "pt: 9016 words\n",
      "es: 3602 words\n",
      "lv: 2775 words\n",
      "br: 7143 words\n",
      "ca: 9079 words\n",
      "hr: 3591 words\n",
      "et: 9459 words\n",
      "ltg: 388 words\n",
      "sr: 17968 words\n",
      "qya: 1327 words\n",
      "pl: 10184 words\n",
      "he: 64540 words\n",
      "vi: 739 words\n",
      "fa: 11253 words\n",
      "eu: 7520 words\n",
      "uk: 9589 words\n",
      "ro: 8618 words\n",
      "fur: 3569 words\n",
      "fy: 6095 words\n",
      "ar: 10166 words\n",
      "tk: 5814 words\n",
      "mn: 4830 words\n",
      "gd: 4660 words\n",
      "sk: 10444 words\n",
      "la: 5802 words\n",
      "tlh: 270 words\n",
      "nds: 1001 words\n",
      "bg: 4953 words\n",
      "hy: 3848 words\n",
      "nn: 10523 words\n",
      "cs: 7544 words\n",
      "eo: 2449 words\n",
      "hyw: 3748 words\n",
      "el: 10209 words\n",
      "da: 9516 words\n",
      "rw: 21 words\n",
      "fo: 6448 words\n",
      "sv: 5968 words\n",
      "nb: 7471 words\n",
      "de: 2277 words\n",
      "gl: 3269 words\n",
      "lt: 2004 words\n",
      "ka: 8827 words\n"
     ]
    }
   ],
   "source": [
    "# utility file to get some stats on the data\n",
    "\n",
    "import glob\n",
    "import json\n",
    "import matplotlib.pyplot as plt\n",
    "\n",
    "data_dir = \"../webapp/data/\"\n",
    "\n",
    "language_codes = [f.split(\"/\")[-1] for f in glob.glob(f\"{data_dir}/languages/*\")]\n",
    "print(\"Total languages:\", len(language_codes))\n",
    "\n",
    "# load the 5words.txt file in each language and count the number of words\n",
    "for code in language_codes:\n",
    "    with open(f\"{data_dir}languages/{code}/{code}_5words.txt\") as f:\n",
    "        words = f.read().split(\"\\n\")\n",
    "        print(f\"{code}: {len(words)} words\")\n",
    "\n"
   ]
  },
  {
   "cell_type": "code",
   "execution_count": 2,
   "metadata": {},
   "outputs": [
    {
     "data": {
      "image/png": "[encoded data removed]",
      "text/plain": [
       "<Figure size 1440x720 with 1 Axes>"
      ]
     },
     "metadata": {
      "needs_background": "light"
     },
     "output_type": "display_data"
    }
   ],
   "source": [
    "# plot the number of words for each language\n",
    "n_words = {}\n",
    "for code in language_codes:\n",
    "    with open(f\"{data_dir}languages/{code}/{code}_5words.txt\") as f:\n",
    "        words = f.read().split(\"\\n\")\n",
    "        n_words[code] = len(words)\n",
    "\n",
    "# plot\n",
    "plt.figure(figsize=(20, 10))\n",
    "plt.ylim(0, 10000)\n",
    "plt.bar(range(len(n_words)), list(n_words.values()))\n",
    "plt.xticks(range(len(n_words)), list(n_words.keys()), rotation=60)\n",
    "plt.savefig(\"out/n_words.png\")\n",
    "plt.show()"
   ]
  },
  {
   "cell_type": "code",
   "execution_count": 3,
   "metadata": {},
   "outputs": [],
   "source": [
    "# print a status list for the README\n",
    "\n",
    "with open(f\"{data_dir}/languages.json\", \"r\") as f:\n",
    "    languages_data = json.load(f)\n",
    "\n",
    "def load_supplemental_words(lang):\n",
    "    try:\n",
    "        with open(f\"{data_dir}languages/{lang}/{lang}_5words_supplement.txt\", \"r\") as f:\n",
    "            supplemental_words = [line.strip() for line in f]\n",
    "    except FileNotFoundError:\n",
    "        supplemental_words = []\n",
    "    return supplemental_words\n",
    "\n",
    "with open(\"out/status_list.txt\", \"w\", encoding=\"utf-8\") as f:\n",
    "    for code in language_codes:\n",
    "        with open(f\"{data_dir}languages/{code}/{code}_5words.txt\") as g:\n",
    "            words = g.read().split(\"\\n\")\n",
    "            words_supplement = load_supplemental_words(code)\n",
    "            status_emoji = \"🟥\"\n",
    "            if len(words) + len(words_supplement) > 500:\n",
    "                status_emoji = \"🟧\"\n",
    "            if len(words) + len(words_supplement) > 1000:\n",
    "                status_emoji = \"🟨\"\n",
    "            # if we've added words to the supplemental list, then we probably have a pretty good\n",
    "            # \"good words\" + \"possible\" words list, thus green status emoji\n",
    "            if len(words_supplement) > 2:\n",
    "                status_emoji = \"🟩\"\n",
    "            language_name = languages_data[code]['language_name']\n",
    "            f.write(f\"  - {language_name[:]} ({code}): {' '*(25-(len(language_name)+len(code)))} {status_emoji} ({len(words) + len(words_supplement)} words)\\n\")"
   ]
  },
  {
   "cell_type": "code",
   "execution_count": null,
   "metadata": {},
   "outputs": [],
   "source": []
  }
 ],
 "metadata": {
  "interpreter": {
   "hash": "288b253856eb2972d894762da6b8160ca46cc9975b4fdc84df51dc67977aa46b"
  },
  "kernelspec": {
   "display_name": "Python 3.8.10 64-bit ('venv': venv)",
   "language": "python",
   "name": "python3"
  },
  "language_info": {
   "codemirror_mode": {
    "name": "ipython",
    "version": 3
   },
   "file_extension": ".py",
   "mimetype": "text/x-python",
   "name": "python",
   "nbconvert_exporter": "python",
   "pygments_lexer": "ipython3",
   "version": "3.8.10"
  },
  "orig_nbformat": 4
 },
 "nbformat": 4,
 "nbformat_minor": 2
}
